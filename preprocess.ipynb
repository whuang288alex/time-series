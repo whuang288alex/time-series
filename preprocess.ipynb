{
 "cells": [
  {
   "cell_type": "code",
   "execution_count": 22,
   "metadata": {},
   "outputs": [
    {
     "name": "stdout",
     "output_type": "stream",
     "text": [
      "{'01': 236736687, '02': 220033460, '03': 248608625, '04': 250644830, '05': 263151748, '06': 260656840, '07': 274776003, '08': 283943231, '09': 281146154, '10': 295965185, '11': 296085162, '12': 309948684}\n",
      "{'01': 31, '02': 28, '03': 31, '04': 30, '05': 31, '06': 30, '07': 31, '08': 31, '09': 30, '10': 31, '11': 30, '12': 31}\n"
     ]
    }
   ],
   "source": [
    "import csv\n",
    "import numpy as np\n",
    "import matplotlib.pyplot as plt\n",
    "\n",
    "\n",
    "counts = []\n",
    "month_count = {}\n",
    "month_day_count = {}\n",
    "with open('./data/data_daily.csv', newline='') as csvfile:\n",
    "    reader = csv.reader(csvfile, delimiter=' ', quotechar='|')\n",
    "    next(reader) # skip header\n",
    "    for row in reader:\n",
    "        date, count = row[0].split(',')\n",
    "        year, month, day = date.split('-')\n",
    "        counts.append(int(count))\n",
    "        month_count[month] = month_count.get(month, 0) + int(count)\n",
    "        month_day_count[month] = month_day_count.get(month, 0) + 1\n",
    "\n",
    "print(month_count)\n",
    "print(month_day_count)\n",
    "for month in month_count:\n",
    "    month_count[month] /= month_day_count[month]"
   ]
  },
  {
   "cell_type": "code",
   "execution_count": 23,
   "metadata": {},
   "outputs": [
    {
     "name": "stdout",
     "output_type": "stream",
     "text": [
      "7095414\n",
      "10738865\n"
     ]
    }
   ],
   "source": [
    "# Define a function to create input sequences and corresponding labels\n",
    "def create_sequences(data, seq_length):\n",
    "    sequences = []\n",
    "    labels = []\n",
    "    for i in range(len(data) - seq_length):\n",
    "        seq = data[i:i + seq_length]\n",
    "        label = data[i + seq_length]\n",
    "        sequences.append(seq)\n",
    "        labels.append(label)\n",
    "    return np.array(sequences), np.array(labels)\n",
    "\n",
    "counts = np.array(counts)\n",
    "print(counts.min())\n",
    "print(counts.max())\n",
    "normed_counts = (counts - counts.min()) / (counts.max() - counts.min())"
   ]
  },
  {
   "cell_type": "code",
   "execution_count": 26,
   "metadata": {},
   "outputs": [
    {
     "name": "stdout",
     "output_type": "stream",
     "text": [
      "(350, 15)\n",
      "(350,)\n"
     ]
    }
   ],
   "source": [
    "sequences, labels = create_sequences(normed_counts, 15)\n",
    "print(sequences.shape)\n",
    "print(labels.shape)\n",
    "np.save('./data/sequences.npy', sequences)\n",
    "np.save('./data/labels.npy', labels)"
   ]
  }
 ],
 "metadata": {
  "kernelspec": {
   "display_name": "time-series",
   "language": "python",
   "name": "python3"
  },
  "language_info": {
   "codemirror_mode": {
    "name": "ipython",
    "version": 3
   },
   "file_extension": ".py",
   "mimetype": "text/x-python",
   "name": "python",
   "nbconvert_exporter": "python",
   "pygments_lexer": "ipython3",
   "version": "3.9.18"
  },
  "orig_nbformat": 4
 },
 "nbformat": 4,
 "nbformat_minor": 2
}
